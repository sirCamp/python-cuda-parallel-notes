{
 "cells": [
  {
   "cell_type": "markdown",
   "metadata": {},
   "source": [
    "Procediamo con l'import dei dati"
   ]
  },
  {
   "cell_type": "code",
   "execution_count": 1,
   "metadata": {},
   "outputs": [
    {
     "name": "stdout",
     "output_type": "stream",
     "text": [
      "Finding cublas\n",
      "\tERROR: can't locate lib\n",
      "Finding cusparse\n",
      "\tlocated at /usr/local/cuda/lib64/libcusparse.so.10.1.105\n",
      "Finding cufft\n",
      "\tlocated at /usr/local/cuda/lib64/libcufft.so.10.1.105\n",
      "Finding curand\n",
      "\tlocated at /usr/local/cuda/lib64/libcurand.so.10.1.105\n",
      "Finding nvvm\n",
      "\tlocated at /usr/local/cuda/nvvm/lib64/libnvvm.so\n",
      "\tfinding libdevice for compute_20...\tok\n",
      "\tfinding libdevice for compute_30...\tok\n",
      "\tfinding libdevice for compute_35...\tok\n",
      "\tfinding libdevice for compute_50...\tok\n",
      "Found 1 CUDA devices\n",
      "id 0     b'GeForce GTX 1050'                              [SUPPORTED]\n",
      "                      compute capability: 6.1\n",
      "                           pci device id: 0\n",
      "                              pci bus id: 1\n",
      "Summary:\n",
      "\t1/1 devices are supported\n"
     ]
    },
    {
     "data": {
      "text/plain": [
       "True"
      ]
     },
     "execution_count": 1,
     "metadata": {},
     "output_type": "execute_result"
    }
   ],
   "source": [
    "from numba import vectorize\n",
    "import numpy as np\n",
    "import time\n",
    "import numba.cuda.api,numba.cuda.cudadrv.libs\n",
    "import tensorflow as tf\n",
    "\n",
    "\n",
    "numba.cuda.cudadrv.libs.test()\n",
    "numba.cuda.api.detect()"
   ]
  },
  {
   "cell_type": "code",
   "execution_count": null,
   "metadata": {},
   "outputs": [],
   "source": []
  },
  {
   "cell_type": "code",
   "execution_count": 2,
   "metadata": {},
   "outputs": [],
   "source": [
    "@vectorize(['float32(float32, float32)'], target='cuda')\n",
    "def parallelized_add(a, b):\n",
    "    return a + b\n",
    "\n",
    "def normal_add(a, b):\n",
    "    c = []\n",
    "    for i in range(0, len(a)):\n",
    "        c.append(a[i]+b[i])\n",
    "    return np.array(c, dtype=np.float32)    \n",
    "    "
   ]
  },
  {
   "cell_type": "code",
   "execution_count": 3,
   "metadata": {},
   "outputs": [],
   "source": [
    "n = 1e8\n",
    "a = np.arange(n, dtype=np.float32)\n",
    "b = np.arange(n, dtype=np.float32)\n"
   ]
  },
  {
   "cell_type": "code",
   "execution_count": 4,
   "metadata": {},
   "outputs": [
    {
     "name": "stdout",
     "output_type": "stream",
     "text": [
      "parallelized_add executed in 0.5228691101074219 seconds\n",
      "normal_add executed in 27.878769636154175 seconds\n"
     ]
    }
   ],
   "source": [
    "\n",
    "start_parallelized = time.time()\n",
    "c = parallelized_add(a, b)\n",
    "end_parallelized = time.time() \n",
    "delta =  end_parallelized-start_parallelized\n",
    "print('parallelized_add executed in {0} seconds'.format(delta))\n",
    "\n",
    "\n",
    "start_normal  = time.time()\n",
    "c = normal_add(a, b)\n",
    "end_normal = time.time() \n",
    "delta = end_normal -start_normal \n",
    "print('normal_add executed in {0} seconds'.format(delta))\n",
    "\n"
   ]
  },
  {
   "cell_type": "markdown",
   "metadata": {},
   "source": [
    "**Due dimensioni**"
   ]
  },
  {
   "cell_type": "code",
   "execution_count": 2,
   "metadata": {},
   "outputs": [],
   "source": [
    "@vectorize(['float32(float32, float32)',\n",
    "            'float32(float32, float32)',\n",
    "            'float32(float32, float32)'],\n",
    "           target='cuda')\n",
    "def parallelized_add_2d(a, b):\n",
    "    return a + b\n",
    "\n",
    "\n",
    "def normal_add_2d(a, b):\n",
    "    c = np.ones((a.shape[0], a.shape[1])).astype(np.float32)\n",
    "    for i in range(0, a.shape[0]):\n",
    "        for j in range(0, a.shape[1]):\n",
    "            c[i][j] = a[i][j] + b[i][j]\n",
    "    return np.array(c, dtype=np.float32)    "
   ]
  },
  {
   "cell_type": "code",
   "execution_count": 4,
   "metadata": {},
   "outputs": [
    {
     "name": "stdout",
     "output_type": "stream",
     "text": [
      "parallelized_add_2d executed in 0.38671278953552246 seconds\n",
      "normal_add executed in 65.92687273025513 seconds\n"
     ]
    }
   ],
   "source": [
    "n = 10000\n",
    "p = 10000\n",
    "a = np.random.random((n, p)).astype(np.float32)\n",
    "b = np.random.random((n, p)).astype(np.float32)\n",
    "\n",
    "start_normal  = time.time()\n",
    "c = parallelized_add_2d(a, b)\n",
    "end_normal = time.time() \n",
    "delta = end_normal -start_normal \n",
    "print('parallelized_add_2d executed in {0} seconds'.format(delta))\n",
    "\n",
    "\n",
    "start_normal  = time.time()\n",
    "c = normal_add_2d(a, b)\n",
    "end_normal = time.time() \n",
    "delta = end_normal -start_normal \n",
    "print('normal_add executed in {0} seconds'.format(delta))"
   ]
  },
  {
   "cell_type": "code",
   "execution_count": 3,
   "metadata": {},
   "outputs": [
    {
     "name": "stdout",
     "output_type": "stream",
     "text": [
      "normal_add executed in 0.07178807258605957 seconds\n",
      "normal_add executed in 23.933459758758545 seconds\n"
     ]
    }
   ],
   "source": [
    "n = 10000\n",
    "p = 10000\n",
    "a = np.random.random((n, p)).astype(np.float32)\n",
    "b = np.random.random((n, p)).astype(np.float32)\n",
    "\n",
    "a_tensor = tf.convert_to_tensor(a, dtype=tf.float32)\n",
    "b_tensor = tf.convert_to_tensor(b, dtype=tf.float32)\n",
    "\n",
    "start_tf = time.time()\n",
    "c = tf.matmul(a_tensor,tf.transpose(b_tensor))\n",
    "end_tf = time.time()\n",
    "delta = end_tf - start_tf\n",
    "print('normal_add executed in {0} seconds'.format(delta))\n",
    "\n",
    "start_n = time.time()\n",
    "c = np.dot(a,b.T)\n",
    "end_n = time.time()\n",
    "delta = end_n - start_n\n",
    "print('normal_add executed in {0} seconds'.format(delta))"
   ]
  },
  {
   "cell_type": "code",
   "execution_count": null,
   "metadata": {},
   "outputs": [],
   "source": []
  }
 ],
 "metadata": {
  "kernelspec": {
   "display_name": "Python 3",
   "language": "python",
   "name": "python3"
  },
  "language_info": {
   "codemirror_mode": {
    "name": "ipython",
    "version": 3
   },
   "file_extension": ".py",
   "mimetype": "text/x-python",
   "name": "python",
   "nbconvert_exporter": "python",
   "pygments_lexer": "ipython3",
   "version": "3.5.2"
  }
 },
 "nbformat": 4,
 "nbformat_minor": 2
}
